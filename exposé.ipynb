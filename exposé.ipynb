{
 "cells": [
  {
   "cell_type": "markdown",
   "id": "9e61bd00-aa14-46b4-9e28-45bc3b22c0a9",
   "metadata": {
    "tags": []
   },
   "source": [
    "# Der piecemeal-Ansatz im Reflective-Equilibrium-Model"
   ]
  },
  {
   "cell_type": "markdown",
   "id": "eb79e45a-bac1-4329-8b29-884f04b4aafc",
   "metadata": {
    "citation-manager": {
     "citations": {
      "6dcki": [
       {
        "id": "6149809/UQJLIDXZ",
        "source": "zotero"
       }
      ],
      "8vgem": [
       {
        "id": "6149809/47ZSGTT5",
        "source": "zotero"
       }
      ],
      "imasv": [
       {
        "id": "6149809/UQJLIDXZ",
        "source": "zotero"
       }
      ],
      "kim2r": [
       {
        "id": "6149809/BZYIRIL4",
        "source": "zotero"
       }
      ],
      "t0owg": [
       {
        "id": "6149809/J7CRERAI",
        "source": "zotero"
       }
      ]
     }
    },
    "tags": []
   },
   "source": [
    "Als sich <cite id=\"kim2r\">(Goodman, 1983)</cite> mit Humes Induktionsproblem beschäftigte, entstand dabei das Prizip des Reflective Equilibrium. Reflective Equilibrium beantwortet nach Goodman die Frage, wie eine Aussage über die Zukunft gerechtfertigter sein kann, als eine andere - auch wenn uns für Induktionsschlüsse die Regeln fehlen. Reflective Equilibrium wurde in der Vergangenheit oft kritisiert. Beispiele sind bei <cite id=\"t0owg\">(Scanlon, 2002)</cite> oder <cite id=\"8vgem\">(Stich &#38; Nisbett, 1980)</cite> zu finden. Als eine Antwort auf die geäusserte Kritik haben <cite id=\"6dcki\">(Beisbart et al., 2015)</cite> ein Modell für die Anwendung von Reflective Equilibrium auf Mengen von Sätzen entwickelt. Damit gibt es nun die Möglichkeit, Reflective Equilibrium mit dem Computer zu simulieren. So konnte aufgezeigt werden, dass die Anwendung von RE machbar und ertragreich ist. Ein grosses Problem bei der Simulation von RE im aktuellen Modell ist allerdings, dass bei jeder Anpassung von Theorie oder Commitments jeweils alle kombinatorisch möglichen Zusammensetzungen von Sätzen überprüft werden und das führt zu exponentiell wachsendem Rechenaufwand bei linear wachsenden Mengen von Sätzen. Somit kann zurzeit das Reflective Equilibrium nur für sehr kleine Mengen von Sätzen simuliert werden. Um dieses Problem zu lösen, soll in meiner Bachelorarbeit ein stückweiser (*piecemeal*) Ansatz für diese Schritte gefunden und in das Modell integriert werden. Stückweise heisst hier, dass bei jedem Anpassungsschritt immer nur einzelne Sätze überprüft werden und dann in die Theorie bzw. Menge von Commitments aufgenommen werden. Ein bereits realisierter Ansatz soll danach in variierenden Strukturen simuliert werden, um zu überprüfen, ob die neue Methode zu ähnlich guten Ergebnissen führt. Konkret soll gezeigt werden, dass grössere Strukturen simulierbar sind und dass sich die Ergebnisse in den Strukturen, welche auch beim traditionellen Ansatz simuliert werden können, die Ergebnisse nicht massgebend unterschieden. Das heisst, dass die *Achievment function* des Endzustands ähnliche Werte erreicht wie beim traditionellen Ansatz. Ich erwarte, dass das Problem von *branching* oder *random decisions*, welches im traditionellen Ansatz auch schon auftaucht, im *piecemeal*-Ansatz verstärkt auftreten wird und werde mir auch über dieses Problem Gedanken machen. Ich vermute, dass zufällige Entscheide vermieden werden können, wenn eine möglichst sparsame branching-Methode umgesetzt wird. Das Ziel meiner Arbeit ist, dass von <cite id=\"imasv\">(Beisbart et al., 2015)</cite> entwickelte Modell und somit auch Reflective Equilibrium als Prinzip besser zu verstehen und mit meiner Systematisierung des *piecemeal*-Ansatzes das Modell leistungsfähiger zu machen. Wenn dies gelingt, könnte das Modell auf grössere Strukturen angewendet werden und vielleicht in Zukunft in der Entscheidungsfindung von komplexen Sachzusammenhalten helfen."
   ]
  },
  {
   "cell_type": "markdown",
   "id": "ed70858a-cfcb-4581-a6b9-298ba3abf3f2",
   "metadata": {},
   "source": [
    "## Gliederung\n",
    "\n",
    "- Beschreibung RE\n",
    "    - Welches Problem löst RE\n",
    "    - Historischer Kontext\n",
    "    - Kritik und Antworten darauf\n",
    "- Beschreibung Modell\n",
    "    - Motivation hinter der Modellierung\n",
    "    - Beschreibung aktueller Ansatz\n",
    "    - Nachteile des jetzigen Ansatzes\n",
    "- Lösung Piecemeal\n",
    "    - Beschreibung Piecemeal\n",
    "    - Definition innerhalb des Modells\n",
    "    - Vorausseetzungen für das Gelingen\n",
    "        - Erreichen von globalen Optima\n",
    "        - Simulationen\n",
    "            - Beschreibung\n",
    "            - Visualisierungen"
   ]
  },
  {
   "cell_type": "markdown",
   "id": "4ed1fa19-8506-4e54-8ed2-7ec9eae26fb5",
   "metadata": {},
   "source": [
    "## Zeitplan\n",
    "Die Beschreibung des RE und des Modells können parallel zu den anderen Arbeiten ausgeführt werden und bis Ende Jahr beendet werden. Auf der praktischen Ebene habe ich bereits begonnen mich in die Umgebung einzuarbeiten. Als ersten Schritt würde ich in Woche 1 versuchen erste Ensembles zu erstellen und Simulationen des piecemeal approaches zu starten. Danach möchte ich einen strukturierten Ansatz entwickeln, wie die Versuche ablaufen sollen: Ich stelle mir im Moment folgende Schritte vor: Ensemble erstellen, mit dem traditionellen Ansatz simulieren, mit piecemeal simulieren, Ergebnisse festhalten. Ab Woche 2 sollten dann diese Versuche anfangen zu laufen und bis Ende Woche 3 vorläufig abgeschlossen sein. Ab Woche 4 würde ich mich um die Eingliederung des piecemeal Ansatzes in das Modell kümmern, da ich bis zu diesem Zeitpunkt den Code genau genug verstehen sollte, um eine akkurate Beschreibung davon in das Modell integrieren zu können. Wenn während der Integration neue Ideen und Ansätze auftauchen, kann es gut sein, dass nochmal zurück zur Simulation gegangen werden muss, um andere Dinge zu testen. Insgesamt sollte die Arbeit bis Ende Woche 8 abgeschlossen sein."
   ]
  },
  {
   "cell_type": "markdown",
   "id": "4b9c048b-203b-43bd-a4dc-d743c20a877d",
   "metadata": {},
   "source": [
    "## Bücherliste\n",
    "\n",
    "Baumberger, C., & Brun, G. (2017). Dimensions of objectual understanding. In S. G. C. Baumberger & S. Ammon (Hrsg.), Explaining understanding: New perspectives from epistemology and philosophy of science (S. 165–189). Routledge.\\\n",
    "Baumberger, C., & Brun, G. (2020). Reflective equilibrium and understanding. Synthese. An International Journal for Epistemology, Methodology and Philosophy of Science, 198(8), 7923–7947. https://doi.org/10.1007/s11229-020-02556-9 \\\n",
    "Beisbart, C., Betz, G., & Brun, G. (2015). Making Reflective Equilibrium Precise. A Formal Model. Ergo.\\\n",
    "Betz, G. (2010). Theorie dialektischer strukturen. Klostermann.\\\n",
    "Betz, G. (2012). Debate dynamics: How controversy improves our beliefs. Springer.\\\n",
    "Brun, G. (2014). Reflective Equilibrium Without Intuitions? Ethical Theory and Moral Practice, 17(2), 237–252. https://doi.org/10.1007/s10677-013-9432-5 \\\n",
    "Daniels, N. (2020). Reflective equilibrium. In E. N. Zalta (Hrsg.), The Stanford encyclopedia of philosophy (Summer 2020). Metaphysics Research Lab, Stanford University. https://plato.stanford.edu/archives/sum2020/entries/reflective-equilibrium/ \\\n",
    "Elgin, C. Z. (2017). True enough. the MIT press. \\\n",
    "Goodman, N. (1983). Fact, fiction, and forecast (4th ed). Harvard University Press. \\\n",
    "Ladyman, J. (2002). Understanding philosophy of science. Routledge.\\\n",
    "Lakatos, I. (1976). Falsification and the Methodology of Scientific Research Programmes. In S. G. Harding (Hrsg.), Can Theories be Refuted? Essays on the Duhem-Quine Thesis (S. 205–259). Springer Netherlands. https://doi.org/10.1007/978-94-010-1863-0_14 \\\n",
    "Rawls, J. (2003). A theory of justice (Rev. ed., 5.-6. printing). Belknap Press of Harvard Univ. Press.\\\n",
    "Scanlon, T. M. (2002). Rawls on Justification. In S. Freeman (Hrsg.), The Cambridge Companion to Rawls (1. Aufl., S. 139–167). Cambridge University Press. https://doi.org/10.1017/CCOL0521651670.004 \\\n",
    "Stich, S. P., & Nisbett, R. E. (1980). Justification and the Psychology of Human Reasoning. Philosophy of Science, 47(2), 188–202. JSTOR.\\\n",
    "Tersman, F. (1993). Reflective equilibrium: An essay in moral epistemology (Nr. 14; S. 144). Stockholm University, Faculty of Humanities, Department of Philosophy / Stockholm University, Faculty of Humanities, Department of Philosophy.\\\n",
    "Tersman, F. (2018). Recent work on reflective equilibrium and method in ethics. Philosophy Compass, 13(6), e12493. https://doi.org/10.1111/phc3.12493 \\\n"
   ]
  },
  {
   "cell_type": "markdown",
   "id": "57550121-1372-4661-8e65-8311e46333b5",
   "metadata": {
    "tags": []
   },
   "source": [
    "## Bibliographie\n",
    "<!-- BIBLIOGRAPHY START -->\n",
    "<div class=\"csl-bib-body\">\n",
    "  <div class=\"csl-entry\">Beisbart, C., Betz, G., &#38; Brun, G. (2015). Making Reflective Equilibrium Precise. A Formal Model. <i>Ergo</i>.</div>\n",
    "\n",
    "  <div class=\"csl-entry\">Goodman, N. (1983). <i>Fact, fiction, and forecast</i> (4th ed). Harvard University Press.</div>\n",
    "\n",
    "  <div class=\"csl-entry\">Scanlon, T. M. (2002). Rawls on Justification. In S. Freeman (Ed.), <i>The Cambridge Companion to Rawls</i> (1st ed., pp. 139–167). Cambridge University Press. https://doi.org/10.1017/CCOL0521651670.004</div>\n",
    "\n",
    "  <div class=\"csl-entry\">Stich, S. P., &#38; Nisbett, R. E. (1980). Justification and the Psychology of Human Reasoning. <i>Philosophy of Science</i>, <i>47</i>(2), 188–202. JSTOR. http://www.jstor.org/stable/187083</div>\n",
    "\n",
    "</div>\n",
    "<!-- BIBLIOGRAPHY END -->"
   ]
  }
 ],
 "metadata": {
  "citation-manager": {
   "items": {
    "zotero": {
     "6149809/47ZSGTT5": {
      "URL": "http://www.jstor.org/stable/187083",
      "abstract": "[This essay grows out of the conviction that recent work by psychologists studying human reasoning has important implications for a broad range of philosophical issues. To illustrate our thesis we focus on Nelson Goodman's elegant and influential attempt to \"dissolve\" the problem of induction. In the first section of the paper we sketch Goodman's account of what it is for a rule of inference to be justified. We then marshal empirical evidence indicating that, on Goodman's account of justification, patently invalid inferential rules turn out to be \"justified.\" We conclude that something is seriously wrong with Goodman's story about justification. In the second section we attempt to patch Goodman's account. The notion of epistemic authority and the social aspect of justification play central roles in the alternative account of justification that we propose.]",
      "accessed": {
       "date-parts": [
        [
         2021,
         11,
         3
        ]
       ]
      },
      "archive": "JSTOR",
      "author": [
       {
        "family": "Stich",
        "given": "Stephen P."
       },
       {
        "family": "Nisbett",
        "given": "Richard E."
       }
      ],
      "container-title": "Philosophy of Science",
      "id": "6149809/47ZSGTT5",
      "issue": "2",
      "issued": {
       "date-parts": [
        [
         1980
        ]
       ]
      },
      "note": "Publisher: [The University of Chicago Press, Philosophy of Science Association]",
      "page": "188-202",
      "title": "Justification and the Psychology of Human Reasoning",
      "type": "article-journal",
      "volume": "47"
     },
     "6149809/BZYIRIL4": {
      "ISBN": "978-0-674-29071-6 978-0-674-29070-9",
      "author": [
       {
        "family": "Goodman",
        "given": "Nelson"
       }
      ],
      "call-number": "BC91 .G66 1983",
      "edition": "4th ed",
      "event-place": "Cambridge, Mass",
      "id": "6149809/BZYIRIL4",
      "issued": {
       "date-parts": [
        [
         1983
        ]
       ]
      },
      "number-of-pages": "131",
      "publisher": "Harvard University Press",
      "publisher-place": "Cambridge, Mass",
      "title": "Fact, fiction, and forecast",
      "type": "book"
     },
     "6149809/J7CRERAI": {
      "ISBN": "978-0-521-65167-7 978-0-521-65706-8 978-0-511-99885-0",
      "URL": "https://www.cambridge.org/core/product/identifier/CBO9780511998850A007/type/book_part",
      "accessed": {
       "date-parts": [
        [
         2021,
         11,
         3
        ]
       ]
      },
      "author": [
       {
        "family": "Scanlon",
        "given": "T. M."
       }
      ],
      "container-title": "The Cambridge Companion to Rawls",
      "edition": "1",
      "editor": [
       {
        "family": "Freeman",
        "given": "Samuel"
       }
      ],
      "id": "6149809/J7CRERAI",
      "issued": {
       "date-parts": [
        [
         2002,
         11,
         4
        ]
       ]
      },
      "note": "DOI: 10.1017/CCOL0521651670.004",
      "page": "139-167",
      "publisher": "Cambridge University Press",
      "title": "Rawls on Justification",
      "type": "chapter"
     },
     "6149809/UQJLIDXZ": {
      "author": [
       {
        "family": "Beisbart",
        "given": "Claus"
       },
       {
        "family": "Betz",
        "given": "Gregor"
       },
       {
        "family": "Brun",
        "given": "Georg"
       }
      ],
      "container-title": "Ergo",
      "id": "6149809/UQJLIDXZ",
      "issued": {
       "date-parts": [
        [
         2015
        ]
       ]
      },
      "title": "Making Reflective Equilibrium Precise. A Formal Model",
      "type": "article-journal"
     }
    }
   }
  },
  "kernelspec": {
   "display_name": "Python 3 (ipykernel)",
   "language": "python",
   "name": "python3"
  },
  "language_info": {
   "codemirror_mode": {
    "name": "ipython",
    "version": 3
   },
   "file_extension": ".py",
   "mimetype": "text/x-python",
   "name": "python",
   "nbconvert_exporter": "python",
   "pygments_lexer": "ipython3",
   "version": "3.8.10"
  }
 },
 "nbformat": 4,
 "nbformat_minor": 5
}
