{
 "cells": [
  {
   "cell_type": "code",
   "execution_count": 1,
   "id": "60a6c9cf-5907-4d40-bb25-c90f19a9382b",
   "metadata": {
    "citation-manager": {
     "citations": {
      "4vabs": [
       {
        "id": "6149809/UQJLIDXZ",
        "source": "zotero"
       }
      ]
     }
    },
    "tags": []
   },
   "outputs": [],
   "source": [
    "<cite id=\"4vabs\">(Beisbart et al., 2015)</cite># importing libraries\n",
    "from remodel.set_implementation import SetBasedPosition, SetBasedDialecticalStructure, SetBasedReflectiveEquilibrium\n",
    "from remodel.bitarray_implementation import BitarrayPosition, BitarrayDialecticalStructure, BitarrayReflectiveEquilibrium\n",
    "from remodeldescription.basics import Position\n",
    "from bitarray import bitarray"
   ]
  },
  {
   "cell_type": "code",
   "execution_count": null,
   "id": "19a0b1fa-908c-428c-a571-5e56b938103a",
   "metadata": {},
   "outputs": [],
   "source": []
  }
 ],
 "metadata": {
  "citation-manager": {
   "items": {}
  },
  "kernelspec": {
   "display_name": "Python 3 (ipykernel)",
   "language": "python",
   "name": "python3"
  },
  "language_info": {
   "codemirror_mode": {
    "name": "ipython",
    "version": 3
   },
   "file_extension": ".py",
   "mimetype": "text/x-python",
   "name": "python",
   "nbconvert_exporter": "python",
   "pygments_lexer": "ipython3",
   "version": "3.8.10"
  }
 },
 "nbformat": 4,
 "nbformat_minor": 5
}
